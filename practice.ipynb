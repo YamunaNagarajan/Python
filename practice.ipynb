{
 "cells": [
  {
   "cell_type": "code",
   "execution_count": null,
   "metadata": {},
   "outputs": [],
   "source": [
    "#adding two numbers\n",
    "\n",
    "a = int(input())\n",
    "b = int(input())\n",
    "c = a + b\n",
    "print(c)"
   ]
  },
  {
   "cell_type": "code",
   "execution_count": 21,
   "metadata": {},
   "outputs": [
    {
     "name": "stdout",
     "output_type": "stream",
     "text": [
      "6\n",
      "The factorial of 23 is :  720\n"
     ]
    }
   ],
   "source": [
    "#to find factorial\n",
    "\n",
    "n = int(input())\n",
    "fact = 1\n",
    "  \n",
    "for i in range(1,n+1): #range(1,7) --- 1*2*3*4*5*6 = 720\n",
    "    fact = fact * i \n",
    "      \n",
    "print (\"The factorial of 23 is : \",fact) \n"
   ]
  },
  {
   "cell_type": "code",
   "execution_count": 8,
   "metadata": {},
   "outputs": [
    {
     "ename": "TypeError",
     "evalue": "Only integers are allowed",
     "output_type": "error",
     "traceback": [
      "\u001b[1;31m---------------------------------------------------------------------------\u001b[0m",
      "\u001b[1;31mTypeError\u001b[0m                                 Traceback (most recent call last)",
      "\u001b[1;32m<ipython-input-8-bc91768a6271>\u001b[0m in \u001b[0;36m<module>\u001b[1;34m\u001b[0m\n\u001b[0;32m      2\u001b[0m \u001b[1;33m\u001b[0m\u001b[0m\n\u001b[0;32m      3\u001b[0m \u001b[1;32mif\u001b[0m \u001b[1;32mnot\u001b[0m \u001b[0mtype\u001b[0m\u001b[1;33m(\u001b[0m\u001b[0mx\u001b[0m\u001b[1;33m)\u001b[0m \u001b[1;32mis\u001b[0m \u001b[0mint\u001b[0m\u001b[1;33m:\u001b[0m\u001b[1;33m\u001b[0m\u001b[1;33m\u001b[0m\u001b[0m\n\u001b[1;32m----> 4\u001b[1;33m   \u001b[1;32mraise\u001b[0m \u001b[0mTypeError\u001b[0m\u001b[1;33m(\u001b[0m\u001b[1;34m\"Only integers are allowed\"\u001b[0m\u001b[1;33m)\u001b[0m\u001b[1;33m\u001b[0m\u001b[1;33m\u001b[0m\u001b[0m\n\u001b[0m",
      "\u001b[1;31mTypeError\u001b[0m: Only integers are allowed"
     ]
    }
   ],
   "source": [
    "x = \"hello\"\n",
    "\n",
    "if not type(x) is int:\n",
    "  raise TypeError(\"Only integers are allowed\")\n"
   ]
  },
  {
   "cell_type": "code",
   "execution_count": 6,
   "metadata": {},
   "outputs": [
    {
     "name": "stdout",
     "output_type": "stream",
     "text": [
      "Enter a number2\n"
     ]
    },
    {
     "data": {
      "text/plain": [
       "4"
      ]
     },
     "execution_count": 6,
     "metadata": {},
     "output_type": "execute_result"
    }
   ],
   "source": [
    "def ask():\n",
    "    v=int(input(\"Enter a number\"))\n",
    "    return v**2\n",
    "ask()"
   ]
  },
  {
   "cell_type": "markdown",
   "metadata": {},
   "source": [
    ">>>> Exercise on Functions"
   ]
  },
  {
   "cell_type": "code",
   "execution_count": 5,
   "metadata": {},
   "outputs": [
    {
     "data": {
      "text/plain": [
       "('Yamuna', 25)"
      ]
     },
     "execution_count": 5,
     "metadata": {},
     "output_type": "execute_result"
    }
   ],
   "source": [
    "# Question 1 : Create a function that can accept two arguments name and age and print its value\n",
    "\n",
    "def two(name,age):\n",
    "    return (name,age)\n",
    "\n",
    "two(\"Yamuna\",25)"
   ]
  },
  {
   "cell_type": "code",
   "execution_count": 12,
   "metadata": {},
   "outputs": [
    {
     "name": "stdout",
     "output_type": "stream",
     "text": [
      "20\n",
      "40\n",
      "60\n",
      "80\n",
      "100\n"
     ]
    }
   ],
   "source": [
    "#Question 2: \n",
    "#Write a function func1() such that it can accept a variable length of  argument and print all arguments value\n",
    "#func1(20, 40, 60)\n",
    "#func1(80, 100)\n",
    "\n",
    "\n",
    "def vari(*num):\n",
    "    for i in num:\n",
    "        print(i)\n",
    "vari(20,40,60)\n",
    "vari(80,100)"
   ]
  },
  {
   "cell_type": "code",
   "execution_count": 14,
   "metadata": {},
   "outputs": [
    {
     "data": {
      "text/plain": [
       "(50, 30)"
      ]
     },
     "execution_count": 14,
     "metadata": {},
     "output_type": "execute_result"
    }
   ],
   "source": [
    "#Question 3: \n",
    "#Write a function calculation() such that it can accept two variables and calculate the addition and subtraction of it. \n",
    "#And also it must return both addition and subtraction in a single return call\n",
    "\n",
    "def calculation(a, b):\n",
    "    return (a+b,a-b)\n",
    "calculation(40,10)"
   ]
  },
  {
   "cell_type": "code",
   "execution_count": 19,
   "metadata": {},
   "outputs": [
    {
     "name": "stdout",
     "output_type": "stream",
     "text": [
      "Employee Yamuna Salary is 9000\n",
      "Employee Yamuna Salary is 9000\n"
     ]
    }
   ],
   "source": [
    "#Question 4: \n",
    "#Create a function showEmployee() in such a way that it should accept employee name, and it’s salary and display both, \n",
    "#and if the salary is missing in function call it should show it as 9000.\n",
    "\n",
    "#use default parameter\n",
    "\n",
    "def showEmployee(name,salary = 9000):\n",
    "    print(\"Employee\",name,\"Salary is\",salary)\n",
    "showEmployee(\"Yamuna\",9000)\n",
    "showEmployee(\"Yamuna\")"
   ]
  },
  {
   "cell_type": "code",
   "execution_count": 22,
   "metadata": {},
   "outputs": [
    {
     "data": {
      "text/plain": [
       "('Yamuna', 23)"
      ]
     },
     "execution_count": 22,
     "metadata": {},
     "output_type": "execute_result"
    }
   ],
   "source": [
    "#Question 5: Assign a different name to function and call it through the new name\n",
    "\n",
    "def firstName(name,age):\n",
    "    return name,age\n",
    "\n",
    "firstName(\"Yamuna\",23)\n",
    "\n",
    "newName=firstName\n",
    "newName(\"Yamuna\",23)\n"
   ]
  },
  {
   "cell_type": "code",
   "execution_count": 23,
   "metadata": {},
   "outputs": [
    {
     "name": "stdout",
     "output_type": "stream",
     "text": [
      "[4, 6, 8, 10, 12, 14, 16, 18, 20, 22, 24, 26, 28]\n"
     ]
    }
   ],
   "source": [
    "#Question 6: Generate a Python list of all the even numbers between 4 to 30.\n",
    "\n",
    "a = range(4,30,2)\n",
    "print(list(a))\n",
    "        \n",
    "\n"
   ]
  },
  {
   "cell_type": "code",
   "execution_count": 24,
   "metadata": {},
   "outputs": [
    {
     "name": "stdout",
     "output_type": "stream",
     "text": [
      "24\n"
     ]
    }
   ],
   "source": [
    "#Question 6: Return the largest item from the given list\n",
    "\n",
    "aList = [4, 6, 8, 24, 12, 2]\n",
    "print(max(aList))"
   ]
  },
  {
   "cell_type": "code",
   "execution_count": 25,
   "metadata": {},
   "outputs": [
    {
     "data": {
      "text/plain": [
       "79"
      ]
     },
     "execution_count": 25,
     "metadata": {},
     "output_type": "execute_result"
    }
   ],
   "source": [
    "#Question 7 :Write a Python function to find the Max of three numbers.\n",
    "\n",
    "def maxi(a,b,c):\n",
    "    return (max(a,b,c))\n",
    "maxi(5,79,56)"
   ]
  },
  {
   "cell_type": "code",
   "execution_count": 26,
   "metadata": {},
   "outputs": [
    {
     "data": {
      "text/plain": [
       "20"
      ]
     },
     "execution_count": 26,
     "metadata": {},
     "output_type": "execute_result"
    }
   ],
   "source": [
    "#Question 8 : Write a Python function to sum all the numbers in a list.\n",
    "#Sample List : (8, 2, 3, 0, 7)\n",
    "\n",
    "def sumall(a,b,c,d,e):\n",
    "    return a+b+c+d+e\n",
    "sumall(8,2,3,0,7)"
   ]
  },
  {
   "cell_type": "code",
   "execution_count": 32,
   "metadata": {},
   "outputs": [
    {
     "name": "stdout",
     "output_type": "stream",
     "text": [
      "20\n"
     ]
    }
   ],
   "source": [
    "def sumall1(*num):\n",
    "    total=0\n",
    "    for i in num:\n",
    "        total=total+i\n",
    "    return total\n",
    "print(sumall1(8,2,3,0,7))"
   ]
  },
  {
   "cell_type": "code",
   "execution_count": 36,
   "metadata": {},
   "outputs": [
    {
     "data": {
      "text/plain": [
       "-336"
      ]
     },
     "execution_count": 36,
     "metadata": {},
     "output_type": "execute_result"
    }
   ],
   "source": [
    "#Question 9: Write a Python function to multiply all the numbers in a list.\n",
    "#Sample List : (8, 2, 3, -1, 7)\n",
    "\n",
    "def multi(*numbers):\n",
    "    total=1\n",
    "    for i in numbers:\n",
    "        total = total * i\n",
    "    return total\n",
    "\n",
    "multi(8,2,3,-1,7)"
   ]
  },
  {
   "cell_type": "code",
   "execution_count": 37,
   "metadata": {},
   "outputs": [
    {
     "data": {
      "text/plain": [
       "'dcba4321'"
      ]
     },
     "execution_count": 37,
     "metadata": {},
     "output_type": "execute_result"
    }
   ],
   "source": [
    "#Question 10: Write a Python program to reverse a string.\n",
    "#Sample String : \"1234abcd\"\n",
    "\n",
    "def rev(cat):\n",
    "    return cat[::-1]\n",
    "rev(\"1234abcd\")"
   ]
  },
  {
   "cell_type": "code",
   "execution_count": 39,
   "metadata": {},
   "outputs": [
    {
     "name": "stdout",
     "output_type": "stream",
     "text": [
      "Enter a number4\n",
      "The factorial of the number is : 24\n"
     ]
    }
   ],
   "source": [
    "#Question 11: Write a Python function to calculate the factorial of a number.(a non-negative integer).\n",
    "\n",
    "def fact():\n",
    "    n = int(input(\"Enter a number\"))\n",
    "    fact = 1\n",
    "    for i in range(1,n+1):\n",
    "        fact = fact * i\n",
    "    print (\"The factorial of the number is :\",fact)\n",
    "fact()\n",
    "    \n"
   ]
  },
  {
   "cell_type": "code",
   "execution_count": 40,
   "metadata": {},
   "outputs": [
    {
     "name": "stdout",
     "output_type": "stream",
     "text": [
      "Number not in range\n"
     ]
    }
   ],
   "source": [
    "#Question 12: Write a Python function to check whether a number is in a given range.\n",
    "\n",
    "def abc(number):\n",
    "    if number in range(0,10):\n",
    "        print(\"Number in range\")\n",
    "    else:\n",
    "        print(\"Number not in range\")\n",
    "abc(23)"
   ]
  },
  {
   "cell_type": "code",
   "execution_count": 15,
   "metadata": {},
   "outputs": [
    {
     "name": "stdout",
     "output_type": "stream",
     "text": [
      "Upper case 1\n",
      "Lower case 2\n",
      "Upper case 1\n",
      "Lower case 7\n",
      "Upper case 2\n",
      "Lower case 10\n"
     ]
    }
   ],
   "source": [
    "#Question 13: Write a Python function that accepts a string \n",
    "#and calculate the number of upper case letters and lower case letters.\n",
    "\n",
    "def accept(a):\n",
    "    upper=0\n",
    "    lower=0\n",
    "    for i in a:\n",
    "        if (i>=\"A\" and i<=\"Z\"):\n",
    "            upper = upper + 1\n",
    "        elif (i>=\"a\" and i<=\"z\"):\n",
    "            lower = lower + 1\n",
    "        else:\n",
    "            pass\n",
    "            print(\"Upper case\",upper)\n",
    "            print(\"Lower case\",lower)\n",
    "            \n",
    "accept('The quick Brow Fox')\n",
    "    "
   ]
  },
  {
   "cell_type": "code",
   "execution_count": 52,
   "metadata": {},
   "outputs": [
    {
     "name": "stdout",
     "output_type": "stream",
     "text": [
      "Original String :  The quick Brown Fox\n",
      "No. of Upper case characters :  3\n",
      "No. of Lower case Characters :  13\n"
     ]
    }
   ],
   "source": [
    "#method for question 13\n",
    "\n",
    "\n",
    "def string_test(s):\n",
    "    d={\"UPPER_CASE\":0, \"LOWER_CASE\":0}\n",
    "    for c in s:\n",
    "        if c.isupper():\n",
    "           d[\"UPPER_CASE\"]+=1\n",
    "        elif c.islower():\n",
    "           d[\"LOWER_CASE\"]+=1\n",
    "        else:\n",
    "           pass\n",
    "    print (\"Original String : \", s)\n",
    "    print (\"No. of Upper case characters : \", d[\"UPPER_CASE\"])\n",
    "    print (\"No. of Lower case Characters : \", d[\"LOWER_CASE\"])\n",
    "\n",
    "string_test('The quick Brown Fox')"
   ]
  },
  {
   "cell_type": "code",
   "execution_count": 8,
   "metadata": {},
   "outputs": [
    {
     "data": {
      "text/plain": [
       "[1, 2, 3, 4, 5]"
      ]
     },
     "execution_count": 8,
     "metadata": {},
     "output_type": "execute_result"
    }
   ],
   "source": [
    "#Question 14: Write a Python function that takes a list and returns a new list with unique elements of the first list.\n",
    "#Sample List : [1,2,3,3,3,3,4,5]\n",
    "#Unique List : [1, 2, 3, 4, 5]\n",
    "\n",
    "\n",
    "def unique(s):\n",
    "    x = []      #this will store the new values\n",
    "    for i in s:\n",
    "        if i not in x:\n",
    "            x.append(i)\n",
    "    return (x)\n",
    "unique([1,2,3,3,3,3,4,5])"
   ]
  },
  {
   "cell_type": "code",
   "execution_count": 22,
   "metadata": {},
   "outputs": [
    {
     "data": {
      "text/plain": [
       "[2, 4, 6, 8]"
      ]
     },
     "execution_count": 22,
     "metadata": {},
     "output_type": "execute_result"
    }
   ],
   "source": [
    "#Question 15: Write a Python program to print the even numbers from a given list.\n",
    "#Sample List : [1, 2, 3, 4, 5, 6, 7, 8, 9]\n",
    "#Expected Result : [2, 4, 6, 8]\n",
    "\n",
    "\n",
    "#x = [1, 2, 3, 4, 5, 6, 7, 8, 9]\n",
    "\n",
    "\n",
    "def even(*x):\n",
    "    y=[]\n",
    "    for i in x:\n",
    "        if i%2 == 0:\n",
    "            y.append(i)\n",
    "    return(y)\n",
    "even(1,2,3,4,5,6,7,8,9)\n",
    "        \n"
   ]
  },
  {
   "cell_type": "code",
   "execution_count": 39,
   "metadata": {},
   "outputs": [
    {
     "name": "stdout",
     "output_type": "stream",
     "text": [
      "It is a palindrome\n"
     ]
    }
   ],
   "source": [
    "#Question 16: Write a Python function that checks whether a passed string is palindrome or not.\n",
    "\n",
    "def palindrome1(name):\n",
    "    if name==name[::-1]:\n",
    "            print(\"It is a palindrome\")\n",
    "    else:\n",
    "            print(\"Not a palindrome\")\n",
    "        \n",
    "palindrome1(\"madam\")"
   ]
  },
  {
   "cell_type": "markdown",
   "metadata": {},
   "source": [
    " >>> Exercise on Lambda Functions\n"
   ]
  },
  {
   "cell_type": "code",
   "execution_count": 1,
   "metadata": {},
   "outputs": [
    {
     "name": "stdout",
     "output_type": "stream",
     "text": [
      "20\n",
      "25\n"
     ]
    }
   ],
   "source": [
    "# 1. Write a Python program to create a lambda function that adds 15 to a given number passed in as an argument, \n",
    "#also create a lambda function that multiplies argument x with argument y and print the result.\n",
    "\n",
    "a=lambda x:x+15\n",
    "print(a(5))\n",
    "\n",
    "b=lambda x,y:x*y\n",
    "print(b(5,5))"
   ]
  },
  {
   "cell_type": "code",
   "execution_count": 5,
   "metadata": {},
   "outputs": [
    {
     "name": "stdout",
     "output_type": "stream",
     "text": [
      "10\n"
     ]
    }
   ],
   "source": [
    "# 2.Write a Python program to create a function that takes one argument, \n",
    "#and that argument will be multiplied with an unknown given number.\n",
    "\n",
    "def multi(x):\n",
    "    return lambda a:a * x\n",
    "result = multi(5)\n",
    "print(result(2))\n",
    "    "
   ]
  },
  {
   "cell_type": "code",
   "execution_count": 18,
   "metadata": {},
   "outputs": [
    {
     "name": "stdout",
     "output_type": "stream",
     "text": [
      "[1, 4, 9, 16, 25, 36, 49, 64]\n",
      "[1, 8, 27, 64, 125, 216, 343, 512]\n"
     ]
    }
   ],
   "source": [
    "# 3.Write a Python program to square and cube every number in a given list of integers using Lambda.\n",
    "\n",
    "list1=[1,2,3,4,5,6,7,8]\n",
    "a=map(lambda x:x**2,list1)   #to find square root\n",
    "\n",
    "b=map(lambda x:x**3,list1)   #to find cube root\n",
    "\n",
    "print(list(a))\n",
    "print(list(b))\n"
   ]
  },
  {
   "cell_type": "code",
   "execution_count": 24,
   "metadata": {},
   "outputs": [
    {
     "name": "stdout",
     "output_type": "stream",
     "text": [
      "True\n",
      "False\n"
     ]
    }
   ],
   "source": [
    "# 4. Write a Python program to find if a given string starts with a given character using Lambda.\n",
    "#   startswith() is a built-in function\n",
    "\n",
    "\n",
    "a=lambda x:True if x.startswith(\"A\") else False\n",
    "print(a(\"Apple\"))\n",
    "\n",
    "b=lambda x:True if x.startswith(\"P\") else False\n",
    "print(b(\"Apple\"))\n",
    "\n"
   ]
  },
  {
   "cell_type": "code",
   "execution_count": 25,
   "metadata": {},
   "outputs": [
    {
     "name": "stdout",
     "output_type": "stream",
     "text": [
      "2020\n",
      "6\n",
      "3\n",
      "15:58:00.012926\n"
     ]
    }
   ],
   "source": [
    "#5. Write a Python program to extract year, month, date and time using Lambda.\n",
    "\n",
    "import datetime\n",
    "now = datetime.datetime.now()   #remember these two lines. Important. Same login can be used normally also\n",
    "\n",
    "year = lambda x: x.year\n",
    "month = lambda x: x.month\n",
    "day = lambda x: x.day\n",
    "time = lambda x: x.time()\n",
    "print(year(now))\n",
    "print(month(now))\n",
    "print(day(now))\n",
    "print(time(now))"
   ]
  },
  {
   "cell_type": "code",
   "execution_count": 35,
   "metadata": {},
   "outputs": [
    {
     "name": "stdout",
     "output_type": "stream",
     "text": [
      "['school', 'banana']\n"
     ]
    }
   ],
   "source": [
    "#6. Write a Python program to filter a given list whether the values in the list are having length of 6 using Lambda.\n",
    "\n",
    "list1=[\"school\",\"weather\",\"mom\",\"banana\"]\n",
    "x=filter(lambda x:len(x)==6,list1)\n",
    "\n",
    "print(list(x))"
   ]
  },
  {
   "cell_type": "code",
   "execution_count": 37,
   "metadata": {},
   "outputs": [
    {
     "name": "stdout",
     "output_type": "stream",
     "text": [
      "[7, 9, 11, 13, 6]\n"
     ]
    }
   ],
   "source": [
    "#7. Write a Python program to add two given lists using map and lambda.\n",
    "\n",
    "list1=[1,2,3,4,5]\n",
    "list2=[6,7,8,9,1]\n",
    "a=map(lambda x,y:x+y,list1,list2)\n",
    "print(list(a))"
   ]
  },
  {
   "cell_type": "markdown",
   "metadata": {},
   "source": [
    ">>"
   ]
  },
  {
   "cell_type": "code",
   "execution_count": 8,
   "metadata": {},
   "outputs": [
    {
     "name": "stdout",
     "output_type": "stream",
     "text": [
      "8\n",
      "2020\n",
      "14:25:20.134661\n"
     ]
    }
   ],
   "source": [
    "import datetime\n",
    "now=datetime.datetime.now()\n",
    "\n",
    "\n",
    "print(day(now))\n",
    "print(year(now))\n",
    "print(time(now))"
   ]
  },
  {
   "cell_type": "code",
   "execution_count": 3,
   "metadata": {},
   "outputs": [
    {
     "name": "stdout",
     "output_type": "stream",
     "text": [
      "8\n",
      "2020\n"
     ]
    }
   ],
   "source": [
    "#same as above, but using LAMBDA function\n",
    "\n",
    "\n",
    "import datetime\n",
    "now=datetime.datetime.now()\n",
    "\n",
    "day=lambda x:x.day\n",
    "month=lambda x:x.month\n",
    "year=lambda x:x.year\n",
    "time=lambda x:x.time()\n",
    "print(day(now))\n",
    "print(year(now))"
   ]
  },
  {
   "cell_type": "markdown",
   "metadata": {},
   "source": [
    ">> DECORATORS"
   ]
  },
  {
   "cell_type": "code",
   "execution_count": null,
   "metadata": {},
   "outputs": [],
   "source": [
    "1. Decorators are a design pattern in python which adds extra functionality to an existing object(function,methods,classes)\n",
    "   without modifying its structure.\n",
    "\n",
    "2. The functions behavior changes only when its decorated.\n",
    "   Decorators are usually called before the definition of a function you want to decorate.\n",
    "\n",
    "3. Functions in Python are first class citizens/first class object - because\n",
    "        > function can be defined within a function\n",
    "        > function can return a function\n",
    "        > function can be passed as an argument to another function"
   ]
  },
  {
   "cell_type": "code",
   "execution_count": 15,
   "metadata": {},
   "outputs": [
    {
     "data": {
      "text/plain": [
       "10"
      ]
     },
     "execution_count": 15,
     "metadata": {},
     "output_type": "execute_result"
    }
   ],
   "source": [
    "#   Assigning Functions to Variables\n",
    "\n",
    "def addition(number):\n",
    "    return number+1\n",
    "x=addition\n",
    "x(9)"
   ]
  },
  {
   "cell_type": "code",
   "execution_count": 17,
   "metadata": {},
   "outputs": [
    {
     "data": {
      "text/plain": [
       "6"
      ]
     },
     "execution_count": 17,
     "metadata": {},
     "output_type": "execute_result"
    }
   ],
   "source": [
    "#   Defining Functions Inside other Functions\n",
    "\n",
    "def outer(number):\n",
    "    def inner(number):\n",
    "        return number+1\n",
    "    \n",
    "    result=inner(number)\n",
    "    return result\n",
    "outer(5)\n",
    "    \n",
    "        "
   ]
  },
  {
   "cell_type": "code",
   "execution_count": 18,
   "metadata": {},
   "outputs": [
    {
     "data": {
      "text/plain": [
       "6"
      ]
     },
     "execution_count": 18,
     "metadata": {},
     "output_type": "execute_result"
    }
   ],
   "source": [
    "#    Passing Functions as Arguments to other Functions\n",
    "\n",
    "\n",
    "def first(number):\n",
    "    return number+1\n",
    "\n",
    "def second(function):\n",
    "    number_to_add=5\n",
    "    return function(number_to_add)\n",
    "\n",
    "second(first)"
   ]
  },
  {
   "cell_type": "code",
   "execution_count": 2,
   "metadata": {},
   "outputs": [
    {
     "name": "stdout",
     "output_type": "stream",
     "text": [
      "This is function 2 and now i will call function1\n",
      "This is function1\n"
     ]
    }
   ],
   "source": [
    "def function1():\n",
    "    print(\"This is function1\")\n",
    "    \n",
    "def function2(a):\n",
    "        print(\"This is function 2 and now i will call function1\")\n",
    "        a()\n",
    "        \n",
    "function2(function1)"
   ]
  },
  {
   "cell_type": "code",
   "execution_count": 32,
   "metadata": {},
   "outputs": [
    {
     "data": {
      "text/plain": [
       "6"
      ]
     },
     "execution_count": 32,
     "metadata": {},
     "output_type": "execute_result"
    }
   ],
   "source": [
    "def first(number):\n",
    "    return number+1\n",
    "\n",
    "def second(function):\n",
    "    add = 5\n",
    "    return function(add)\n",
    "\n",
    "second(first)\n",
    "    "
   ]
  },
  {
   "cell_type": "code",
   "execution_count": 21,
   "metadata": {},
   "outputs": [
    {
     "data": {
      "text/plain": [
       "'Hello'"
      ]
     },
     "execution_count": 21,
     "metadata": {},
     "output_type": "execute_result"
    }
   ],
   "source": [
    "#    Functions Returning other Functions\n",
    "\n",
    "\n",
    "def first():\n",
    "    def second():\n",
    "        return \"Hello\"\n",
    "    return second\n",
    "\n",
    "anyvariable=first()\n",
    "anyvariable()\n"
   ]
  },
  {
   "cell_type": "code",
   "execution_count": 36,
   "metadata": {},
   "outputs": [
    {
     "data": {
      "text/plain": [
       "9"
      ]
     },
     "execution_count": 36,
     "metadata": {},
     "output_type": "execute_result"
    }
   ],
   "source": [
    "def first():\n",
    "    def second(number):\n",
    "        return number+1\n",
    "    return second(8)\n",
    "first()\n",
    "\n"
   ]
  },
  {
   "cell_type": "code",
   "execution_count": 39,
   "metadata": {},
   "outputs": [
    {
     "name": "stdout",
     "output_type": "stream",
     "text": [
      "good morning\n",
      "GOOD MORNING\n"
     ]
    }
   ],
   "source": [
    "#  Decorator example\n",
    "\n",
    "\n",
    "def caps(func):   #func is a function which is passed as a parameter to caps\n",
    "    def inner():\n",
    "        a=func()  #calling the function in inner\n",
    "        return a.upper()\n",
    "    return inner()\n",
    "\n",
    "def print_name():\n",
    "    return \"good morning\"\n",
    "\n",
    "print(print_name())\n",
    "\n",
    "d=caps(print_name)\n",
    "print(d)"
   ]
  },
  {
   "cell_type": "code",
   "execution_count": 41,
   "metadata": {},
   "outputs": [
    {
     "name": "stdout",
     "output_type": "stream",
     "text": [
      "GOOD MORNING\n"
     ]
    }
   ],
   "source": [
    "# the above example - correct way of using decorator is :\n",
    "\n",
    "# Decorators are usually called before the definition of a function you want to decorate.\n",
    "\n",
    "\n",
    "def caps(func):\n",
    "    def inner():\n",
    "        a=func()\n",
    "        return a.upper()\n",
    "    return inner()\n",
    "\n",
    "@caps\n",
    "\n",
    "def print_name():\n",
    "    return \"good morning\"\n",
    "\n",
    "print(print_name)"
   ]
  },
  {
   "cell_type": "code",
   "execution_count": 46,
   "metadata": {},
   "outputs": [
    {
     "name": "stdout",
     "output_type": "stream",
     "text": [
      "Get price of :book\n",
      "The price of book is unknown\n"
     ]
    }
   ],
   "source": [
    "prices={\"pen\":10,\"pencil\":5,\"notebook\":25}\n",
    "item=input(\"Get price of :\")\n",
    "\n",
    "try:\n",
    "    print(\"The price of\",item,\"is\",prices[item])\n",
    "    \n",
    "except KeyError:\n",
    "    print(\"The price of\",item,\"is unknown\")"
   ]
  },
  {
   "cell_type": "code",
   "execution_count": 1,
   "metadata": {},
   "outputs": [
    {
     "name": "stdout",
     "output_type": "stream",
     "text": [
      "['apple', 'banana', 'cherry']\n"
     ]
    }
   ],
   "source": [
    "menu=[\"apple\",\"banana\",\"apple\",\"cherry\"]\n",
    "\n",
    "new_menu=list(dict.fromkeys(menu))\n",
    "\n",
    "print(new_menu)"
   ]
  },
  {
   "cell_type": "code",
   "execution_count": 6,
   "metadata": {},
   "outputs": [
    {
     "name": "stdout",
     "output_type": "stream",
     "text": [
      "[1, 2, 3, 4, 5]\n",
      "[1, 2, 9, 4, 5, 34]\n"
     ]
    }
   ],
   "source": [
    "import copy\n",
    "\n",
    "list1=[1,2,3,4,5]\n",
    "list2=copy.copy(list1)\n",
    "\n",
    "list2[2]=9\n",
    "list2.append(34)\n",
    "\n",
    "print(list1)\n",
    "print(list2)"
   ]
  },
  {
   "cell_type": "code",
   "execution_count": 7,
   "metadata": {},
   "outputs": [
    {
     "name": "stdout",
     "output_type": "stream",
     "text": [
      "[[30, 40], [34, 67]]\n",
      "[[30, 40], [34, 67]]\n"
     ]
    }
   ],
   "source": [
    "import copy\n",
    "\n",
    "list1=[[90,40],[34,67]]\n",
    "list2=copy.copy(list1)\n",
    "\n",
    "list2[0][0]=30\n",
    "\n",
    "print(list1)\n",
    "print(list2)"
   ]
  },
  {
   "cell_type": "code",
   "execution_count": 8,
   "metadata": {},
   "outputs": [
    {
     "name": "stdout",
     "output_type": "stream",
     "text": [
      "[1, 2, 34, 5, 6, 7]\n",
      "[5, 2, 34, 5, 6, 7]\n"
     ]
    }
   ],
   "source": [
    "import copy\n",
    "\n",
    "list1=[1,2,34,5,6,7]\n",
    "list2=copy.copy(list1)\n",
    "\n",
    "list2[0]=5\n",
    "\n",
    "print(list1)\n",
    "print(list2)"
   ]
  },
  {
   "cell_type": "code",
   "execution_count": null,
   "metadata": {},
   "outputs": [],
   "source": []
  }
 ],
 "metadata": {
  "kernelspec": {
   "display_name": "Python 3",
   "language": "python",
   "name": "python3"
  },
  "language_info": {
   "codemirror_mode": {
    "name": "ipython",
    "version": 3
   },
   "file_extension": ".py",
   "mimetype": "text/x-python",
   "name": "python",
   "nbconvert_exporter": "python",
   "pygments_lexer": "ipython3",
   "version": "3.7.6"
  }
 },
 "nbformat": 4,
 "nbformat_minor": 4
}
