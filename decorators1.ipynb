{
 "cells": [
  {
   "cell_type": "code",
   "execution_count": null,
   "metadata": {},
   "outputs": [],
   "source": [
    "# Functions are first class objects in python or functions are first class citizens in python.\n",
    "\n",
    "1) functions can be defined inside a function\n",
    "2) A function can return a function.\n",
    "3) A function can be passed as a argument inside a function."
   ]
  },
  {
   "cell_type": "code",
   "execution_count": 1,
   "metadata": {},
   "outputs": [
    {
     "name": "stdout",
     "output_type": "stream",
     "text": [
      "6\n"
     ]
    }
   ],
   "source": [
    "def outer():\n",
    "    \n",
    "    \n",
    "    def inner():\n",
    "        x =3\n",
    "        y =3\n",
    "        result = x + y\n",
    "        return result\n",
    "    return inner()\n",
    "\n",
    "a = outer()\n",
    "print(a)"
   ]
  },
  {
   "cell_type": "code",
   "execution_count": 2,
   "metadata": {},
   "outputs": [
    {
     "name": "stdout",
     "output_type": "stream",
     "text": [
      "<function outer.<locals>.inner at 0x0000019553B4B798>\n"
     ]
    }
   ],
   "source": [
    "def outer():\n",
    "    \n",
    "    \n",
    "    def inner():\n",
    "        x =3\n",
    "        y =3\n",
    "        result = x + y\n",
    "        return result\n",
    "    return inner# without parenthesis it gives the reference or address of inner\n",
    "\n",
    "a = outer()\n",
    "print(a)"
   ]
  },
  {
   "cell_type": "code",
   "execution_count": 1,
   "metadata": {},
   "outputs": [
    {
     "name": "stdout",
     "output_type": "stream",
     "text": [
      "hi i am function2 now i will call function 1\n",
      "hi i am function 1\n"
     ]
    }
   ],
   "source": [
    "def function1():\n",
    "    print(\"hi i am function 1\")\n",
    "    \n",
    "def function2(a):\n",
    "    print(\"hi i am function2 now i will call function 1\")\n",
    "    a()\n",
    "    \n",
    "    \n",
    "    \n",
    "    \n",
    "    \n",
    "function2(function1)"
   ]
  },
  {
   "cell_type": "code",
   "execution_count": 4,
   "metadata": {},
   "outputs": [
    {
     "name": "stdout",
     "output_type": "stream",
     "text": [
      "good mng\n",
      "GOOD MNG\n"
     ]
    }
   ],
   "source": [
    "#Decorators\n",
    "\n",
    "def str_caps(func): # func is a function which passed as a parameter to str_caps, thats why we are calling func in inner(line3)\n",
    "    def inner():\n",
    "        str1 = func()\n",
    "        return str1.upper() \n",
    "    return inner()\n",
    "\n",
    "\n",
    "\n",
    "def print_str():\n",
    "    return \"good mng\"\n",
    "\n",
    "print(print_str())# we have to write print statement bcoz otherwise the program goes to line 16 and print only GOOD MNG\n",
    "\n",
    "d = str_caps(print_str)\n",
    "print(d)\n",
    "\n"
   ]
  },
  {
   "cell_type": "code",
   "execution_count": 1,
   "metadata": {},
   "outputs": [
    {
     "name": "stdout",
     "output_type": "stream",
     "text": [
      "GOOD MNG\n"
     ]
    }
   ],
   "source": [
    "def str_upper(func):\n",
    "    def inner():\n",
    "        str1 = func()\n",
    "        return str1.upper()\n",
    "    return inner\n",
    "\n",
    "\n",
    "@str_upper\n",
    "def print_str():\n",
    "    return \"good mng\"\n",
    "\n",
    "print(print_str())"
   ]
  },
  {
   "cell_type": "code",
   "execution_count": null,
   "metadata": {},
   "outputs": [],
   "source": []
  }
 ],
 "metadata": {
  "kernelspec": {
   "display_name": "Python 3",
   "language": "python",
   "name": "python3"
  },
  "language_info": {
   "codemirror_mode": {
    "name": "ipython",
    "version": 3
   },
   "file_extension": ".py",
   "mimetype": "text/x-python",
   "name": "python",
   "nbconvert_exporter": "python",
   "pygments_lexer": "ipython3",
   "version": "3.7.6"
  }
 },
 "nbformat": 4,
 "nbformat_minor": 2
}
